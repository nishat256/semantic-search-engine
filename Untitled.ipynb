{
 "cells": [
  {
   "cell_type": "code",
   "execution_count": 1,
   "metadata": {},
   "outputs": [],
   "source": [
    "fo = open('data/words_tags.txt')\n",
    "lines = fo.readlines()"
   ]
  },
  {
   "cell_type": "code",
   "execution_count": 2,
   "metadata": {},
   "outputs": [
    {
     "data": {
      "text/plain": [
       "135"
      ]
     },
     "execution_count": 2,
     "metadata": {},
     "output_type": "execute_result"
    }
   ],
   "source": [
    "len(lines)"
   ]
  },
  {
   "cell_type": "code",
   "execution_count": 11,
   "metadata": {},
   "outputs": [],
   "source": [
    "num = 1\n",
    "lyst = []\n",
    "for line in lines:\n",
    "    if len(line.split('\\t')) < 2:\n",
    "        continue\n",
    "    sent,tags = line.split('\\t')\n",
    "    assert len(sent.split()) == len(tags.split())\n",
    "    for w,t in zip(sent.split(),tags.split()):\n",
    "        if t == 'B-PROCE':\n",
    "            t='B-PRICE'\n",
    "        elif t == '0':\n",
    "            t='O'\n",
    "        lyst.append({\"sentence_idx\":num,\"word\":w,\"tag\":t})\n",
    "    num += 1\n",
    "        "
   ]
  },
  {
   "cell_type": "code",
   "execution_count": 12,
   "metadata": {},
   "outputs": [],
   "source": [
    "import pandas as pd\n",
    "df = pd.DataFrame(lyst)\n",
    "df.to_csv('ner_cat.csv')"
   ]
  },
  {
   "cell_type": "code",
   "execution_count": 13,
   "metadata": {},
   "outputs": [],
   "source": [
    "new_df = pd.read_csv('ner_cat.csv')"
   ]
  },
  {
   "cell_type": "code",
   "execution_count": 14,
   "metadata": {},
   "outputs": [
    {
     "data": {
      "text/html": [
       "<div>\n",
       "<style scoped>\n",
       "    .dataframe tbody tr th:only-of-type {\n",
       "        vertical-align: middle;\n",
       "    }\n",
       "\n",
       "    .dataframe tbody tr th {\n",
       "        vertical-align: top;\n",
       "    }\n",
       "\n",
       "    .dataframe thead th {\n",
       "        text-align: right;\n",
       "    }\n",
       "</style>\n",
       "<table border=\"1\" class=\"dataframe\">\n",
       "  <thead>\n",
       "    <tr style=\"text-align: right;\">\n",
       "      <th></th>\n",
       "      <th>Unnamed: 0</th>\n",
       "      <th>sentence_idx</th>\n",
       "      <th>tag</th>\n",
       "      <th>word</th>\n",
       "    </tr>\n",
       "  </thead>\n",
       "  <tbody>\n",
       "    <tr>\n",
       "      <th>0</th>\n",
       "      <td>0</td>\n",
       "      <td>1</td>\n",
       "      <td>B-BRAND</td>\n",
       "      <td>dghfjgeifgi</td>\n",
       "    </tr>\n",
       "    <tr>\n",
       "      <th>1</th>\n",
       "      <td>1</td>\n",
       "      <td>1</td>\n",
       "      <td>B-PROD</td>\n",
       "      <td>Face</td>\n",
       "    </tr>\n",
       "    <tr>\n",
       "      <th>2</th>\n",
       "      <td>2</td>\n",
       "      <td>1</td>\n",
       "      <td>I-PROD</td>\n",
       "      <td>mask</td>\n",
       "    </tr>\n",
       "    <tr>\n",
       "      <th>3</th>\n",
       "      <td>3</td>\n",
       "      <td>1</td>\n",
       "      <td>O</td>\n",
       "      <td>with</td>\n",
       "    </tr>\n",
       "    <tr>\n",
       "      <th>4</th>\n",
       "      <td>4</td>\n",
       "      <td>1</td>\n",
       "      <td>D-MORE</td>\n",
       "      <td>more</td>\n",
       "    </tr>\n",
       "    <tr>\n",
       "      <th>...</th>\n",
       "      <td>...</td>\n",
       "      <td>...</td>\n",
       "      <td>...</td>\n",
       "      <td>...</td>\n",
       "    </tr>\n",
       "    <tr>\n",
       "      <th>1204</th>\n",
       "      <td>1204</td>\n",
       "      <td>130</td>\n",
       "      <td>B-PRICE</td>\n",
       "      <td>290</td>\n",
       "    </tr>\n",
       "    <tr>\n",
       "      <th>1205</th>\n",
       "      <td>1205</td>\n",
       "      <td>130</td>\n",
       "      <td>O</td>\n",
       "      <td>rs</td>\n",
       "    </tr>\n",
       "    <tr>\n",
       "      <th>1206</th>\n",
       "      <td>1206</td>\n",
       "      <td>130</td>\n",
       "      <td>O</td>\n",
       "      <td>and</td>\n",
       "    </tr>\n",
       "    <tr>\n",
       "      <th>1207</th>\n",
       "      <td>1207</td>\n",
       "      <td>130</td>\n",
       "      <td>O</td>\n",
       "      <td>discunt</td>\n",
       "    </tr>\n",
       "    <tr>\n",
       "      <th>1208</th>\n",
       "      <td>1208</td>\n",
       "      <td>130</td>\n",
       "      <td>B-DISC</td>\n",
       "      <td>78%</td>\n",
       "    </tr>\n",
       "  </tbody>\n",
       "</table>\n",
       "<p>1209 rows × 4 columns</p>\n",
       "</div>"
      ],
      "text/plain": [
       "      Unnamed: 0  sentence_idx      tag         word\n",
       "0              0             1  B-BRAND  dghfjgeifgi\n",
       "1              1             1   B-PROD         Face\n",
       "2              2             1   I-PROD         mask\n",
       "3              3             1        O         with\n",
       "4              4             1   D-MORE         more\n",
       "...          ...           ...      ...          ...\n",
       "1204        1204           130  B-PRICE          290\n",
       "1205        1205           130        O           rs\n",
       "1206        1206           130        O          and\n",
       "1207        1207           130        O      discunt\n",
       "1208        1208           130   B-DISC          78%\n",
       "\n",
       "[1209 rows x 4 columns]"
      ]
     },
     "metadata": {},
     "output_type": "display_data"
    }
   ],
   "source": [
    "display(new_df)"
   ]
  },
  {
   "cell_type": "code",
   "execution_count": 15,
   "metadata": {},
   "outputs": [
    {
     "data": {
      "text/plain": [
       "array(['B-BRAND', 'B-PROD', 'I-PROD', 'O', 'D-MORE', 'B-DISC', 'P-LESS',\n",
       "       'B-PRICE', 'B-QUAN', 'D-LESS', 'P-PRICE', 'P-MORE', 'I-BRAND'],\n",
       "      dtype=object)"
      ]
     },
     "execution_count": 15,
     "metadata": {},
     "output_type": "execute_result"
    }
   ],
   "source": [
    "df['tag'].unique()"
   ]
  },
  {
   "cell_type": "code",
   "execution_count": 1,
   "metadata": {},
   "outputs": [
    {
     "name": "stderr",
     "output_type": "stream",
     "text": [
      "Using TensorFlow backend.\n"
     ]
    }
   ],
   "source": [
    "import tensorflow as tf\n",
    "import numpy as np\n",
    "import tensorflow_hub as hub\n",
    "from keras import backend as K\n",
    "from keras.models import Model\n",
    "from keras.layers import LSTM,Bidirectional,Dense,TimeDistributed,Embedding,Input,Dropout,Lambda\n",
    "\n",
    "sess = tf.Session()\n",
    "K.set_session(sess)\n",
    "elmo_model = hub.Module(\"data/elmo_3\", trainable=False)\n",
    "sess.run(tf.global_variables_initializer())\n",
    "sess.run(tf.tables_initializer())\n",
    "batch_size = 2\n",
    "maxlen=25\n",
    "idx2tag = {0: 'B-PROD', 1: 'I-PROD', 2: 'B-BRAND', 3: 'D-LESS', 4: 'B-QUAN', 5: 'B-DISC', 6: 'P-MORE',\n",
    "           7: 'I-BRAND', 8: 'B-PRICE', 9: 'D-MORE', 10: 'P-LESS', 11: 'P-PRICE', 12: 'O'}\n",
    "n_tags = len(idx2tag)\n",
    "\n",
    "def ElmoEmbedding(x):\n",
    "    return elmo_model(inputs={\"tokens\": tf.squeeze(tf.cast(x,    tf.string)),\"sequence_len\": tf.constant(batch_size*[maxlen])\n",
    "                     },\n",
    "                      signature=\"tokens\",\n",
    "                      as_dict=True)[\"elmo\"]\n",
    "\n",
    "def build_model():\n",
    "  input_text = Input(shape=(maxlen,),dtype=tf.string)\n",
    "  embedding = Lambda(ElmoEmbedding, output_shape=(None, 1024))(input_text)\n",
    "  x = Bidirectional(LSTM(units=100, return_sequences=True, recurrent_dropout=0.1,dropout=0.2))(embedding)\n",
    "  out = TimeDistributed(Dense(n_tags,activation='softmax'))(x)\n",
    "  model = Model(input_text,out)\n",
    "  model.load_weights(\"data/model_2.h5\")\n",
    "  return model"
   ]
  },
  {
   "cell_type": "code",
   "execution_count": 2,
   "metadata": {},
   "outputs": [
    {
     "name": "stdout",
     "output_type": "stream",
     "text": [
      "INFO:tensorflow:Saver not created because there are no variables in the graph to restore\n",
      "WARNING:tensorflow:From c:\\users\\new.user\\desktop\\ml_env\\lib\\site-packages\\tensorflow_core\\python\\ops\\resource_variable_ops.py:1630: calling BaseResourceVariable.__init__ (from tensorflow.python.ops.resource_variable_ops) with constraint is deprecated and will be removed in a future version.\n",
      "Instructions for updating:\n",
      "If using Keras pass *_constraint arguments to layers.\n",
      "WARNING:tensorflow:From c:\\users\\new.user\\desktop\\ml_env\\lib\\site-packages\\keras\\backend\\tensorflow_backend.py:422: The name tf.global_variables is deprecated. Please use tf.compat.v1.global_variables instead.\n",
      "\n",
      "WARNING:tensorflow:From c:\\users\\new.user\\desktop\\ml_env\\lib\\site-packages\\keras\\backend\\tensorflow_backend.py:431: The name tf.is_variable_initialized is deprecated. Please use tf.compat.v1.is_variable_initialized instead.\n",
      "\n",
      "['O', 'B-PROD', 'O', 'O', 'O', 'O', 'O', 'B-PROD', 'I-PROD', 'O', 'O', 'P-LESS', 'O', 'B-PRICE', 'O', 'O', 'O', 'O', 'O', 'O', 'O', 'O', 'O', 'O', 'O']\n"
     ]
    }
   ],
   "source": [
    "idx2tag = {0: 'B-PROD', 1: 'I-PROD', 2: 'B-BRAND', 3: 'D-LESS', 4: 'B-QUAN', 5: 'B-DISC', 6: 'P-MORE',\n",
    "           7: 'I-BRAND', 8: 'B-PRICE', 9: 'D-MORE', 10: 'P-LESS', 11: 'P-PRICE', 12: 'O'}\n",
    "new_model = build_model()\n",
    "def make_prediction(query):\n",
    "  maxlen = 25\n",
    "  new_X = []\n",
    "  X = [query.split(),\"hello\"]\n",
    "  for seq in X:\n",
    "    new_seq = []\n",
    "    for i in range(maxlen):\n",
    "      try:\n",
    "        new_seq.append(seq[i])\n",
    "      except:\n",
    "        new_seq.append(\"PADword\")\n",
    "    new_X.append(new_seq)\n",
    "  pred = new_model.predict(np.array(new_X))[0]\n",
    "  pred = np.argmax(pred,axis=-1)\n",
    "  pred_tags = []\n",
    "  for i in pred:\n",
    "    pred_tags.append(idx2tag[i])\n",
    "  return pred_tags\n",
    "\n",
    "if __name__ == \"__main__\":\n",
    "  prediction = make_prediction(\"my name is nishat and I want detergent soap with price less than 900 rupees\")\n",
    "  print(prediction)"
   ]
  },
  {
   "cell_type": "code",
   "execution_count": 3,
   "metadata": {},
   "outputs": [
    {
     "name": "stdout",
     "output_type": "stream",
     "text": [
      "['B-PROD', 'I-PROD', 'O', 'O', 'D-MORE', 'O', 'B-DISC', 'O', 'O', 'O', 'O', 'O', 'O', 'O', 'O', 'O', 'O', 'O', 'O', 'O', 'O', 'O', 'O', 'O', 'O']\n",
      "Wall time: 1.65 s\n"
     ]
    }
   ],
   "source": [
    "%%time\n",
    "prediction = make_prediction(\"fairness cream with discount more than 20%\")\n",
    "print(prediction)"
   ]
  },
  {
   "cell_type": "code",
   "execution_count": 4,
   "metadata": {},
   "outputs": [],
   "source": [
    "import re\n",
    "\n",
    "def name_entity_recognition(query):\n",
    "    prediction = make_prediction(query)\n",
    "    prod_desc = \"\"\n",
    "    price = None\n",
    "    discount = None\n",
    "    price_less =None\n",
    "    price_more = None\n",
    "    discount_more = None\n",
    "    discount_less =None\n",
    "    brand = None\n",
    "    query_tokens = query.split()\n",
    "    quantity = None\n",
    "    for index,item in enumerate(prediction):\n",
    "        if item in ['B-PROD','I-PROD']:\n",
    "            if item == 'B-PROD':\n",
    "                prod_desc += query_tokens[index]\n",
    "            else:\n",
    "                prod_desc += \" \"+query_tokens[index]\n",
    "        elif item == 'B-QUAN':\n",
    "            quantity = int(re.findall(r'[0-9]+',query_tokens[index])[0])\n",
    "        elif item == 'P-LESS':\n",
    "            price_less = True\n",
    "        elif item == 'P-MORE':\n",
    "            price_more = True\n",
    "        elif item == 'B-PRICE':\n",
    "            price = int(query_tokens[index])\n",
    "        elif item == 'B-DISC':\n",
    "            discount = int(query_tokens[index][:-1])\n",
    "        elif item == 'D-LESS':\n",
    "            discount_less = True\n",
    "        elif item == 'D-MORE':\n",
    "            discount_more = True\n",
    "        elif item == 'B-BRAND':\n",
    "            brand = query_tokens[index]\n",
    "            \n",
    "    if brand:\n",
    "        prod_desc = brand +\" \"+prod_desc\n",
    "    return {\"prod_desc\": prod_desc,\n",
    "            \"price_less\":price_less,\n",
    "            \"price_more\":price_more,\n",
    "            \"quantity\":quantity,\n",
    "            \"price\":price,\n",
    "            \"discount\":discount,\n",
    "            \"discount_less\":discount_less,\n",
    "            \"discount_more\":discount_more,\n",
    "            \"brand\":brand}"
   ]
  },
  {
   "cell_type": "code",
   "execution_count": 5,
   "metadata": {},
   "outputs": [
    {
     "name": "stdout",
     "output_type": "stream",
     "text": [
      "{'price_more': None, 'prod_desc': 'hairfall sampoo', 'brand': None, 'discount_less': None, 'price_less': True, 'price': 200, 'discount_more': None, 'discount': 20, 'quantity': 100}\n"
     ]
    }
   ],
   "source": [
    "query = \"hairfall sampoo in 100ml pack with price less than 200 rs  and discount 20%\"\n",
    "response = name_entity_recognition(query)\n",
    "print(response)"
   ]
  },
  {
   "cell_type": "code",
   "execution_count": 6,
   "metadata": {},
   "outputs": [],
   "source": [
    "import numpy as np \n",
    "import pandas as pd\n",
    "from sklearn.metrics.pairwise import cosine_similarity\n",
    "\n",
    "df_data = pd.read_csv('data/processed_data.csv')\n",
    "vectors = df_data[[str(i) for i in range(1024)]]\n",
    "vectors_array = vectors.values\n",
    "\n",
    "def sentence_embedding(x):\n",
    "  embeddings = elmo_model(\n",
    "     x,\n",
    "    signature=\"default\",\n",
    "    as_dict=True)[\"elmo\"]\n",
    "  response = sess.run(tf.math.reduce_sum(embeddings,1))\n",
    "  return response\n",
    "\n",
    "\n",
    "def fetch_top_n_records_from_db(query, num_records=20):\n",
    "\tquery_vector = sentence_embedding([query])\n",
    "\tsimilarity = cosine_similarity(query_vector, vectors_array)\n",
    "\ttop_n_indices = np.argpartition(similarity[0], -num_records)[-num_records:]\n",
    "\tresult = df_data.loc[top_n_indices] \n",
    "\treturn result\n",
    "\n"
   ]
  },
  {
   "cell_type": "code",
   "execution_count": 7,
   "metadata": {},
   "outputs": [
    {
     "name": "stdout",
     "output_type": "stream",
     "text": [
      "INFO:tensorflow:Saver not created because there are no variables in the graph to restore\n"
     ]
    },
    {
     "data": {
      "text/plain": [
       "6683    ETAMB 60 ML FAIRNESS CREAM FOR MEN FAIR & HAND...\n",
       "5153       FBIMG 200ML CDBOX FAIRNESS MASSAGE CREAM (B/W-\n",
       "5402       RKUST 25GM CDBOX MEN ANTI-MARKS FAIRNESS CREAM\n",
       "1451    KCSAC 50ML CDBOX NORMAL GREEN TEA CREAM MASSAG...\n",
       "7175          FFKBY 30GM CDBOX CLEVER FACE FAIRNESS CREAM\n",
       "224       GHIPG 450M PBT BEAUTY CARE PAPAYA MASSAGE CREAM\n",
       "3337       RQIEP 35GM PLBOT NATURAL BEAUTY FAIRNESS CREAM\n",
       "4530           GTJRD 50 GM CDBOX MILK ROSE FAIRNESS CREAM\n",
       "6890       EDVIC 25 GM CDBOX FAIRNESS MASSAGE CREAM (B/W-\n",
       "7000           AHWVK 50G CDBOX HERBAL MENS FAIRNESS CREAM\n",
       "6580        TUHGR 50GM CDBOX TOTAL VITAMIN FAIRNESS CREAM\n",
       "1115    WDNOU 30GM CDBOX MAGIC VITAMIN ALL DAY FAIRNES...\n",
       "5397                     ICDYE 25 ML CDBOX FAIRNESS CREAM\n",
       "2849       ETAMB 60 ML NATURALLY FAIR FAIRNESS COLD CREAM\n",
       "3123    THNKT 50GM CDBOX FRUIT CREAM FAIRNESS CREAM SK...\n",
       "1990    EMFVI 70ML PLCNT FAIRNESS GLOW CREAM WITH SFRO...\n",
       "2926       DFCAR 50GM CDBOX GLOWING BEAUTY FAIRNESS CREAM\n",
       "1831          GCXSM 25 GM CDBOX ANTI-MARKS FAIRNESS CREAM\n",
       "1801                           OPGHO 50 GM FAIRNESS CREAM\n",
       "5446                                 MMMDI FAIRNESS CREAM\n",
       "Name: Product Description, dtype: object"
      ]
     },
     "metadata": {},
     "output_type": "display_data"
    },
    {
     "name": "stdout",
     "output_type": "stream",
     "text": [
      "Wall time: 3.01 s\n"
     ]
    }
   ],
   "source": [
    "%%time\n",
    "response = fetch_top_n_records_from_db(\"fairness cream\")\n",
    "display(response['Product Description'])"
   ]
  },
  {
   "cell_type": "code",
   "execution_count": 8,
   "metadata": {},
   "outputs": [],
   "source": [
    "def apply_filter(response,ner_response):\n",
    "    price = ner_response['price']\n",
    "    discount = ner_response['discount']\n",
    "    quantity = ner_response['quantity']\n",
    "    if not price and not discount and not quantity:\n",
    "        return response\n",
    "    if price:\n",
    "        if ner_response['price_more']:\n",
    "            response = response[response['MRP']>=price]\n",
    "        else:\n",
    "            response = response[response['MRP']<=price]\n",
    "    if discount:\n",
    "        if ner_response['discount_less']:\n",
    "            response = response[response['Discount']<=(discount/float(100))]\n",
    "        else:\n",
    "            response = response[response['Discount']>=(discount/float(100))]\n",
    "    if quantity:\n",
    "        print(str(quantity))\n",
    "        response = response[response['Grammage'].str.contains(str(quantity))]\n",
    "    return response\n"
   ]
  },
  {
   "cell_type": "code",
   "execution_count": null,
   "metadata": {},
   "outputs": [],
   "source": []
  },
  {
   "cell_type": "code",
   "execution_count": 10,
   "metadata": {},
   "outputs": [
    {
     "name": "stdout",
     "output_type": "stream",
     "text": [
      "INFO:tensorflow:Saver not created because there are no variables in the graph to restore\n",
      "50\n"
     ]
    },
    {
     "data": {
      "text/html": [
       "<div>\n",
       "<style scoped>\n",
       "    .dataframe tbody tr th:only-of-type {\n",
       "        vertical-align: middle;\n",
       "    }\n",
       "\n",
       "    .dataframe tbody tr th {\n",
       "        vertical-align: top;\n",
       "    }\n",
       "\n",
       "    .dataframe thead th {\n",
       "        text-align: right;\n",
       "    }\n",
       "</style>\n",
       "<table border=\"1\" class=\"dataframe\">\n",
       "  <thead>\n",
       "    <tr style=\"text-align: right;\">\n",
       "      <th></th>\n",
       "      <th>Product Description</th>\n",
       "      <th>Brand Name</th>\n",
       "      <th>Grammage</th>\n",
       "      <th>Discount</th>\n",
       "      <th>MRP</th>\n",
       "      <th>Special Offer</th>\n",
       "    </tr>\n",
       "  </thead>\n",
       "  <tbody>\n",
       "    <tr>\n",
       "      <th>2926</th>\n",
       "      <td>DFCAR 50GM CDBOX GLOWING BEAUTY FAIRNESS CREAM</td>\n",
       "      <td>DFCAR</td>\n",
       "      <td>50GM</td>\n",
       "      <td>0.23</td>\n",
       "      <td>279</td>\n",
       "      <td>0.39</td>\n",
       "    </tr>\n",
       "    <tr>\n",
       "      <th>1801</th>\n",
       "      <td>OPGHO 50 GM FAIRNESS CREAM</td>\n",
       "      <td>OPGHO</td>\n",
       "      <td>50 GM</td>\n",
       "      <td>0.35</td>\n",
       "      <td>442</td>\n",
       "      <td>0.28</td>\n",
       "    </tr>\n",
       "  </tbody>\n",
       "</table>\n",
       "</div>"
      ],
      "text/plain": [
       "                                 Product Description Brand Name Grammage  \\\n",
       "2926  DFCAR 50GM CDBOX GLOWING BEAUTY FAIRNESS CREAM      DFCAR     50GM   \n",
       "1801                      OPGHO 50 GM FAIRNESS CREAM      OPGHO    50 GM   \n",
       "\n",
       "      Discount  MRP  Special Offer  \n",
       "2926      0.23  279           0.39  \n",
       "1801      0.35  442           0.28  "
      ]
     },
     "metadata": {},
     "output_type": "display_data"
    },
    {
     "name": "stdout",
     "output_type": "stream",
     "text": [
      "False\n",
      "Wall time: 4.44 s\n"
     ]
    }
   ],
   "source": [
    "%%time\n",
    "query = \"fairness cream in 50 gram pack pack with price less than 500 rs and discount more than 20%\"\n",
    "ner_response = name_entity_recognition(query)\n",
    "response = fetch_top_n_records_from_db(ner_response['prod_desc'])\n",
    "response = response[['Product Description','Brand Name','Grammage','Discount','MRP','Special Offer']]\n",
    "response = apply_filter(response.dropna(),ner_response)\n",
    "if response.empty:\n",
    "    print (False)\n",
    "else:\n",
    "    display(response)\n",
    "    print(response.)\n",
    "print(response.empty)"
   ]
  },
  {
   "cell_type": "code",
   "execution_count": null,
   "metadata": {},
   "outputs": [],
   "source": []
  },
  {
   "cell_type": "code",
   "execution_count": null,
   "metadata": {},
   "outputs": [],
   "source": []
  }
 ],
 "metadata": {
  "kernelspec": {
   "display_name": "Python 3",
   "language": "python",
   "name": "python3"
  },
  "language_info": {
   "codemirror_mode": {
    "name": "ipython",
    "version": 3
   },
   "file_extension": ".py",
   "mimetype": "text/x-python",
   "name": "python",
   "nbconvert_exporter": "python",
   "pygments_lexer": "ipython3",
   "version": "3.5.4"
  }
 },
 "nbformat": 4,
 "nbformat_minor": 4
}
